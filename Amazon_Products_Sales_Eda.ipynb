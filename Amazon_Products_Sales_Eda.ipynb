{
 "cells": [
  {
   "cell_type": "markdown",
   "id": "05c2d6d3",
   "metadata": {},
   "source": [
    "<span style=\"color:#2bb34f\">\n",
    "<span style=\"font-size:22px;\">\n",
    "\n",
    "#### AMAZON PRODUCTS SALES "
   ]
  },
  {
   "cell_type": "markdown",
   "id": "622ee7d4",
   "metadata": {},
   "source": [
    "<p style=\"text-align:justify;\">\n",
    "<span style=\"color:#ed7c2b\">\n",
    "<span style=\"font-size:22px;\">\n",
    "The Amazon Dataset contains e-commerce data with features such as product ratings, reviews, prices, discounts, and sales performance. These variables play a crucial role in understanding consumer behavior and predicting product demand. In this project, various regression algorithms such as Linear Regression, Random Forest Regression, Support Vector Regression (SVR), and Decision Tree Regression are applied to predict the target variable, such as product sales or ratings, based on multiple influencing factors. The goal is to enable data-driven insights that help businesses optimize pricing strategies, improve product recommendations, and enhance overall marketplace performance through accurate predictive modeling."
   ]
  },
  {
   "cell_type": "markdown",
   "id": "bca88888",
   "metadata": {},
   "source": [
    "## Introduction:"
   ]
  },
  {
   "cell_type": "markdown",
   "id": "af2ad578",
   "metadata": {},
   "source": [
    "#### Import the necessary Libraries"
   ]
  },
  {
   "cell_type": "code",
   "execution_count": 29,
   "id": "34e33712",
   "metadata": {},
   "outputs": [],
   "source": [
    "import pandas as pd\n",
    "import numpy as np\n",
    "import matplotlib.pyplot as plt\n",
    "import seaborn as sns\n",
    "from sklearn.metrics import r2_score"
   ]
  },
  {
   "cell_type": "markdown",
   "id": "73e06483",
   "metadata": {},
   "source": [
    "#### Import dataset"
   ]
  },
  {
   "cell_type": "code",
   "execution_count": null,
   "id": "c124281d",
   "metadata": {},
   "outputs": [],
   "source": [
    "df=pd.read_csv('Amazon_Dataset.csv')"
   ]
  },
  {
   "cell_type": "markdown",
   "id": "4ae877b9",
   "metadata": {},
   "source": [
    "#### Display few rows of dataset"
   ]
  },
  {
   "cell_type": "code",
   "execution_count": 31,
   "id": "fc1f353d",
   "metadata": {},
   "outputs": [
    {
     "data": {
      "text/html": [
       "<div>\n",
       "<style scoped>\n",
       "    .dataframe tbody tr th:only-of-type {\n",
       "        vertical-align: middle;\n",
       "    }\n",
       "\n",
       "    .dataframe tbody tr th {\n",
       "        vertical-align: top;\n",
       "    }\n",
       "\n",
       "    .dataframe thead th {\n",
       "        text-align: right;\n",
       "    }\n",
       "</style>\n",
       "<table border=\"1\" class=\"dataframe\">\n",
       "  <thead>\n",
       "    <tr style=\"text-align: right;\">\n",
       "      <th></th>\n",
       "      <th>product_title</th>\n",
       "      <th>product_rating</th>\n",
       "      <th>total_reviews</th>\n",
       "      <th>purchased_last_month</th>\n",
       "      <th>discounted_price</th>\n",
       "      <th>original_price</th>\n",
       "      <th>is_best_seller</th>\n",
       "      <th>is_sponsored</th>\n",
       "      <th>has_coupon</th>\n",
       "      <th>buy_box_availability</th>\n",
       "      <th>product_image_url</th>\n",
       "      <th>product_page_url</th>\n",
       "      <th>data_collected_at</th>\n",
       "      <th>product_category</th>\n",
       "      <th>discount_percentage</th>\n",
       "    </tr>\n",
       "  </thead>\n",
       "  <tbody>\n",
       "    <tr>\n",
       "      <th>0</th>\n",
       "      <td>BOYA BOYALINK 2 Wireless Lavalier Microphone f...</td>\n",
       "      <td>4.6</td>\n",
       "      <td>375.0</td>\n",
       "      <td>300.0</td>\n",
       "      <td>89.68</td>\n",
       "      <td>159.00</td>\n",
       "      <td>No Badge</td>\n",
       "      <td>Sponsored</td>\n",
       "      <td>Save 15%  with coupon</td>\n",
       "      <td>Add to cart</td>\n",
       "      <td>https://m.media-amazon.com/images/I/71pAqiVEs3...</td>\n",
       "      <td>https://www.amazon.com/sspa/click?ie=UTF8&amp;spc=...</td>\n",
       "      <td>2025-08-21 11:14:29</td>\n",
       "      <td>Phones</td>\n",
       "      <td>43.60</td>\n",
       "    </tr>\n",
       "    <tr>\n",
       "      <th>1</th>\n",
       "      <td>LISEN USB C to Lightning Cable, 240W 4 in 1 Ch...</td>\n",
       "      <td>4.3</td>\n",
       "      <td>2457.0</td>\n",
       "      <td>6000.0</td>\n",
       "      <td>9.99</td>\n",
       "      <td>15.99</td>\n",
       "      <td>No Badge</td>\n",
       "      <td>Sponsored</td>\n",
       "      <td>No Coupon</td>\n",
       "      <td>Add to cart</td>\n",
       "      <td>https://m.media-amazon.com/images/I/61nbF6aVIP...</td>\n",
       "      <td>https://www.amazon.com/sspa/click?ie=UTF8&amp;spc=...</td>\n",
       "      <td>2025-08-21 11:14:29</td>\n",
       "      <td>Laptops</td>\n",
       "      <td>37.52</td>\n",
       "    </tr>\n",
       "    <tr>\n",
       "      <th>2</th>\n",
       "      <td>DJI Mic 2 (2 TX + 1 RX + Charging Case), Wirel...</td>\n",
       "      <td>4.6</td>\n",
       "      <td>3044.0</td>\n",
       "      <td>2000.0</td>\n",
       "      <td>314.00</td>\n",
       "      <td>349.00</td>\n",
       "      <td>No Badge</td>\n",
       "      <td>Sponsored</td>\n",
       "      <td>No Coupon</td>\n",
       "      <td>Add to cart</td>\n",
       "      <td>https://m.media-amazon.com/images/I/61h78MEXoj...</td>\n",
       "      <td>https://www.amazon.com/sspa/click?ie=UTF8&amp;spc=...</td>\n",
       "      <td>2025-08-21 11:14:29</td>\n",
       "      <td>Laptops</td>\n",
       "      <td>10.03</td>\n",
       "    </tr>\n",
       "    <tr>\n",
       "      <th>3</th>\n",
       "      <td>Apple AirPods Pro 2 Wireless Earbuds, Active N...</td>\n",
       "      <td>4.6</td>\n",
       "      <td>35882.0</td>\n",
       "      <td>10000.0</td>\n",
       "      <td>162.24</td>\n",
       "      <td>162.24</td>\n",
       "      <td>Best Seller</td>\n",
       "      <td>Organic</td>\n",
       "      <td>No Coupon</td>\n",
       "      <td>NaN</td>\n",
       "      <td>https://m.media-amazon.com/images/I/61SUj2aKoE...</td>\n",
       "      <td>https://www.amazon.com/Apple-Cancellation-Tran...</td>\n",
       "      <td>2025-08-21 11:14:29</td>\n",
       "      <td>Phones</td>\n",
       "      <td>0.00</td>\n",
       "    </tr>\n",
       "    <tr>\n",
       "      <th>4</th>\n",
       "      <td>Apple AirTag 4 Pack. Keep Track of and find Yo...</td>\n",
       "      <td>4.8</td>\n",
       "      <td>28988.0</td>\n",
       "      <td>10000.0</td>\n",
       "      <td>72.74</td>\n",
       "      <td>72.74</td>\n",
       "      <td>No Badge</td>\n",
       "      <td>Organic</td>\n",
       "      <td>No Coupon</td>\n",
       "      <td>NaN</td>\n",
       "      <td>https://m.media-amazon.com/images/I/61bMNCeAUA...</td>\n",
       "      <td>https://www.amazon.com/Apple-MX542LL-A-AirTag-...</td>\n",
       "      <td>2025-08-21 11:14:29</td>\n",
       "      <td>Phones</td>\n",
       "      <td>0.00</td>\n",
       "    </tr>\n",
       "  </tbody>\n",
       "</table>\n",
       "</div>"
      ],
      "text/plain": [
       "                                       product_title  product_rating  \\\n",
       "0  BOYA BOYALINK 2 Wireless Lavalier Microphone f...             4.6   \n",
       "1  LISEN USB C to Lightning Cable, 240W 4 in 1 Ch...             4.3   \n",
       "2  DJI Mic 2 (2 TX + 1 RX + Charging Case), Wirel...             4.6   \n",
       "3  Apple AirPods Pro 2 Wireless Earbuds, Active N...             4.6   \n",
       "4  Apple AirTag 4 Pack. Keep Track of and find Yo...             4.8   \n",
       "\n",
       "   total_reviews  purchased_last_month  discounted_price  original_price  \\\n",
       "0          375.0                 300.0             89.68          159.00   \n",
       "1         2457.0                6000.0              9.99           15.99   \n",
       "2         3044.0                2000.0            314.00          349.00   \n",
       "3        35882.0               10000.0            162.24          162.24   \n",
       "4        28988.0               10000.0             72.74           72.74   \n",
       "\n",
       "  is_best_seller is_sponsored             has_coupon buy_box_availability  \\\n",
       "0       No Badge    Sponsored  Save 15%  with coupon          Add to cart   \n",
       "1       No Badge    Sponsored              No Coupon          Add to cart   \n",
       "2       No Badge    Sponsored              No Coupon          Add to cart   \n",
       "3    Best Seller      Organic              No Coupon                  NaN   \n",
       "4       No Badge      Organic              No Coupon                  NaN   \n",
       "\n",
       "                                   product_image_url  \\\n",
       "0  https://m.media-amazon.com/images/I/71pAqiVEs3...   \n",
       "1  https://m.media-amazon.com/images/I/61nbF6aVIP...   \n",
       "2  https://m.media-amazon.com/images/I/61h78MEXoj...   \n",
       "3  https://m.media-amazon.com/images/I/61SUj2aKoE...   \n",
       "4  https://m.media-amazon.com/images/I/61bMNCeAUA...   \n",
       "\n",
       "                                    product_page_url    data_collected_at  \\\n",
       "0  https://www.amazon.com/sspa/click?ie=UTF8&spc=...  2025-08-21 11:14:29   \n",
       "1  https://www.amazon.com/sspa/click?ie=UTF8&spc=...  2025-08-21 11:14:29   \n",
       "2  https://www.amazon.com/sspa/click?ie=UTF8&spc=...  2025-08-21 11:14:29   \n",
       "3  https://www.amazon.com/Apple-Cancellation-Tran...  2025-08-21 11:14:29   \n",
       "4  https://www.amazon.com/Apple-MX542LL-A-AirTag-...  2025-08-21 11:14:29   \n",
       "\n",
       "  product_category  discount_percentage  \n",
       "0           Phones                43.60  \n",
       "1          Laptops                37.52  \n",
       "2          Laptops                10.03  \n",
       "3           Phones                 0.00  \n",
       "4           Phones                 0.00  "
      ]
     },
     "execution_count": 31,
     "metadata": {},
     "output_type": "execute_result"
    }
   ],
   "source": [
    "df.head()"
   ]
  },
  {
   "cell_type": "markdown",
   "id": "e53245c1",
   "metadata": {},
   "source": [
    "#### Data Cleaning"
   ]
  },
  {
   "cell_type": "markdown",
   "id": "d3fc1703",
   "metadata": {},
   "source": [
    "#### Checking any negative values in the dataset"
   ]
  },
  {
   "cell_type": "code",
   "execution_count": 32,
   "id": "f9df5002",
   "metadata": {},
   "outputs": [
    {
     "name": "stdout",
     "output_type": "stream",
     "text": [
      "Negative values per column:\n",
      " product_rating          0\n",
      "total_reviews           0\n",
      "purchased_last_month    0\n",
      "discounted_price        0\n",
      "original_price          0\n",
      "discount_percentage     0\n",
      "dtype: int64\n",
      "\n",
      "Total negative values in dataset: 0\n"
     ]
    }
   ],
   "source": [
    "# Select only numeric columns\n",
    "numeric_data = df.select_dtypes(include=[\"number\"])\n",
    "\n",
    "# Count negative values per column\n",
    "negative_counts = (numeric_data <  0).sum()\n",
    "\n",
    "# Total negatives in dataset\n",
    "total_negatives = negative_counts.sum()\n",
    "\n",
    "print(\"Negative values per column:\\n\", negative_counts)\n",
    "print(\"\\nTotal negative values in dataset:\", total_negatives)"
   ]
  },
  {
   "cell_type": "code",
   "execution_count": 33,
   "id": "a370ab8d",
   "metadata": {},
   "outputs": [
    {
     "data": {
      "text/plain": [
       "product_title               0\n",
       "product_rating           1024\n",
       "total_reviews            1024\n",
       "purchased_last_month    10511\n",
       "discounted_price         2062\n",
       "original_price           2062\n",
       "is_best_seller              0\n",
       "is_sponsored                0\n",
       "has_coupon                  0\n",
       "buy_box_availability    14653\n",
       "product_image_url           0\n",
       "product_page_url         2069\n",
       "data_collected_at           0\n",
       "product_category            0\n",
       "discount_percentage      2062\n",
       "dtype: int64"
      ]
     },
     "execution_count": 33,
     "metadata": {},
     "output_type": "execute_result"
    }
   ],
   "source": [
    "#-----Check whether any null values-----\n",
    "df.isnull().sum()"
   ]
  },
  {
   "cell_type": "code",
   "execution_count": 34,
   "id": "96849956",
   "metadata": {},
   "outputs": [],
   "source": [
    "#-------Dropping null values in buy_box_availability-------\n",
    "df=df.dropna(subset=['buy_box_availability','product_page_url'])\n"
   ]
  },
  {
   "cell_type": "code",
   "execution_count": 35,
   "id": "6f9df897",
   "metadata": {},
   "outputs": [],
   "source": [
    "#------Fill product_rating using interpolate-----------\n",
    "df['product_rating']=df['product_rating'].interpolate(method='linear')\n",
    "\n",
    "#------Fill total_reviews using interpolate-----------\n",
    "df['total_reviews']=df['total_reviews'].interpolate(method='linear')\n",
    "\n",
    "#------Fill purchased_last_month using interpolate-----------\n",
    "df['purchased_last_month']=df['purchased_last_month'].interpolate(method='linear')\n",
    "\n",
    "#------Fill discounted_price using interpolate-----------\n",
    "df['discounted_price']=df['discounted_price'].interpolate(method='linear')\n",
    "\n",
    "#------Fill original_price using interpolate-----------\n",
    "df['original_price']=df['original_price'].interpolate(method='linear')\n",
    "\n",
    "#------Fill discount_percentage using interpolate-----------\n",
    "df['discount_percentage']=df['discount_percentage'].interpolate(method='linear')"
   ]
  },
  {
   "cell_type": "code",
   "execution_count": 36,
   "id": "e55c3a65",
   "metadata": {},
   "outputs": [
    {
     "data": {
      "text/plain": [
       "np.int64(0)"
      ]
     },
     "execution_count": 36,
     "metadata": {},
     "output_type": "execute_result"
    }
   ],
   "source": [
    "#--------Checking duplicate values-------------\n",
    "df.duplicated().sum()"
   ]
  },
  {
   "cell_type": "code",
   "execution_count": 37,
   "id": "9a83a792",
   "metadata": {},
   "outputs": [
    {
     "name": "stdout",
     "output_type": "stream",
     "text": [
      "<class 'pandas.core.frame.DataFrame'>\n",
      "Index: 26233 entries, 0 to 42674\n",
      "Data columns (total 15 columns):\n",
      " #   Column                Non-Null Count  Dtype  \n",
      "---  ------                --------------  -----  \n",
      " 0   product_title         26233 non-null  object \n",
      " 1   product_rating        26233 non-null  float64\n",
      " 2   total_reviews         26233 non-null  float64\n",
      " 3   purchased_last_month  26233 non-null  float64\n",
      " 4   discounted_price      26233 non-null  float64\n",
      " 5   original_price        26233 non-null  float64\n",
      " 6   is_best_seller        26233 non-null  object \n",
      " 7   is_sponsored          26233 non-null  object \n",
      " 8   has_coupon            26233 non-null  object \n",
      " 9   buy_box_availability  26233 non-null  object \n",
      " 10  product_image_url     26233 non-null  object \n",
      " 11  product_page_url      26233 non-null  object \n",
      " 12  data_collected_at     26233 non-null  object \n",
      " 13  product_category      26233 non-null  object \n",
      " 14  discount_percentage   26233 non-null  float64\n",
      "dtypes: float64(6), object(9)\n",
      "memory usage: 3.2+ MB\n"
     ]
    }
   ],
   "source": [
    "#----------Checking data types of columns---------\n",
    "df.info()"
   ]
  },
  {
   "cell_type": "markdown",
   "id": "eb184007",
   "metadata": {},
   "source": [
    "<span style=\"color:#de4710\">\n",
    "<span style=\"font-size:26px;\">\n",
    "What are the products available?"
   ]
  },
  {
   "cell_type": "code",
   "execution_count": 38,
   "id": "ed44e235",
   "metadata": {},
   "outputs": [
    {
     "data": {
      "text/html": [
       "<div>\n",
       "<style scoped>\n",
       "    .dataframe tbody tr th:only-of-type {\n",
       "        vertical-align: middle;\n",
       "    }\n",
       "\n",
       "    .dataframe tbody tr th {\n",
       "        vertical-align: top;\n",
       "    }\n",
       "\n",
       "    .dataframe thead th {\n",
       "        text-align: right;\n",
       "    }\n",
       "</style>\n",
       "<table border=\"1\" class=\"dataframe\">\n",
       "  <thead>\n",
       "    <tr style=\"text-align: right;\">\n",
       "      <th></th>\n",
       "      <th>product_category</th>\n",
       "    </tr>\n",
       "  </thead>\n",
       "  <tbody>\n",
       "    <tr>\n",
       "      <th>0</th>\n",
       "      <td>Phones</td>\n",
       "    </tr>\n",
       "    <tr>\n",
       "      <th>1</th>\n",
       "      <td>Laptops</td>\n",
       "    </tr>\n",
       "    <tr>\n",
       "      <th>2</th>\n",
       "      <td>Storage</td>\n",
       "    </tr>\n",
       "    <tr>\n",
       "      <th>3</th>\n",
       "      <td>Cameras</td>\n",
       "    </tr>\n",
       "    <tr>\n",
       "      <th>4</th>\n",
       "      <td>Printers &amp; Scanners</td>\n",
       "    </tr>\n",
       "    <tr>\n",
       "      <th>5</th>\n",
       "      <td>Other Electronics</td>\n",
       "    </tr>\n",
       "    <tr>\n",
       "      <th>6</th>\n",
       "      <td>Chargers &amp; Cables</td>\n",
       "    </tr>\n",
       "    <tr>\n",
       "      <th>7</th>\n",
       "      <td>TV &amp; Display</td>\n",
       "    </tr>\n",
       "    <tr>\n",
       "      <th>8</th>\n",
       "      <td>Networking</td>\n",
       "    </tr>\n",
       "    <tr>\n",
       "      <th>9</th>\n",
       "      <td>Speakers</td>\n",
       "    </tr>\n",
       "    <tr>\n",
       "      <th>10</th>\n",
       "      <td>Wearables</td>\n",
       "    </tr>\n",
       "    <tr>\n",
       "      <th>11</th>\n",
       "      <td>Power &amp; Batteries</td>\n",
       "    </tr>\n",
       "    <tr>\n",
       "      <th>12</th>\n",
       "      <td>Smart Home</td>\n",
       "    </tr>\n",
       "    <tr>\n",
       "      <th>13</th>\n",
       "      <td>Gaming</td>\n",
       "    </tr>\n",
       "    <tr>\n",
       "      <th>14</th>\n",
       "      <td>Headphones</td>\n",
       "    </tr>\n",
       "  </tbody>\n",
       "</table>\n",
       "</div>"
      ],
      "text/plain": [
       "       product_category\n",
       "0                Phones\n",
       "1               Laptops\n",
       "2               Storage\n",
       "3               Cameras\n",
       "4   Printers & Scanners\n",
       "5     Other Electronics\n",
       "6     Chargers & Cables\n",
       "7          TV & Display\n",
       "8            Networking\n",
       "9              Speakers\n",
       "10            Wearables\n",
       "11    Power & Batteries\n",
       "12           Smart Home\n",
       "13               Gaming\n",
       "14           Headphones"
      ]
     },
     "execution_count": 38,
     "metadata": {},
     "output_type": "execute_result"
    }
   ],
   "source": [
    "data=df['product_category'].unique()\n",
    "uni_df=pd.DataFrame(data,columns=['product_category'])\n",
    "uni_df"
   ]
  },
  {
   "cell_type": "code",
   "execution_count": 39,
   "id": "4dd2fea7",
   "metadata": {},
   "outputs": [
    {
     "data": {
      "image/png": "[encoded data removed]",
      "text/plain": [
       "<Figure size 3200x500 with 1 Axes>"
      ]
     },
     "metadata": {},
     "output_type": "display_data"
    }
   ],
   "source": [
    "plt.figure(figsize=(32,5))\n",
    "plt.bar(uni_df['product_category'], [1]*len(uni_df),color='#063d02')  # all bars same height\n",
    "plt.xticks(rotation=0,fontweight='bold')\n",
    "plt.yticks([])  # remove y-axis\n",
    "plt.title(\"Product Category\",fontsize=18,fontweight='bold')\n",
    "plt.show()"
   ]
  },
  {
   "cell_type": "markdown",
   "id": "fef9b8bf",
   "metadata": {},
   "source": [
    "<span style=\"color:#de4710\">\n",
    "<span style=\"font-size:26px;\">\n",
    "Which product category has the highest total sales?"
   ]
  },
  {
   "cell_type": "code",
   "execution_count": 40,
   "id": "564d718b",
   "metadata": {},
   "outputs": [
    {
     "name": "stdout",
     "output_type": "stream",
     "text": [
      "Category with highest total sales: Laptops\n",
      "Total Sales Value: $365,791,860.68\n"
     ]
    }
   ],
   "source": [
    "# Calculate total sales (discounted_price × purchased_last_month)\n",
    "df[\"total_sales\"] = df[\"discounted_price\"] * df[\"purchased_last_month\"]\n",
    "\n",
    "# Group by product category and sum total sales\n",
    "category_sales = df.groupby(\"product_category\", as_index=False)[\"total_sales\"].sum()\n",
    "\n",
    "# Sort by total sales (descending)\n",
    "category_sales = category_sales.sort_values(by=\"total_sales\", ascending=False)\n",
    "\n",
    "# Find top category\n",
    "top_category = category_sales.iloc[0][\"product_category\"]\n",
    "top_sales = category_sales.iloc[0][\"total_sales\"]\n",
    "\n",
    "print(f\"Category with highest total sales: {top_category}\")\n",
    "print(f\"Total Sales Value: ${top_sales:,.2f}\")\n"
   ]
  },
  {
   "cell_type": "code",
   "execution_count": 41,
   "id": "b7809cb6",
   "metadata": {},
   "outputs": [
    {
     "name": "stderr",
     "output_type": "stream",
     "text": [
      "C:\\Users\\anusr\\AppData\\Local\\Temp\\ipykernel_40640\\650057119.py:2: FutureWarning: \n",
      "\n",
      "Passing `palette` without assigning `hue` is deprecated and will be removed in v0.14.0. Assign the `x` variable to `hue` and set `legend=False` for the same effect.\n",
      "\n",
      "  sns.barplot(\n"
     ]
    },
    {
     "data": {
      "image/png": "[encoded data removed]",
      "text/plain": [
       "<Figure size 1200x600 with 1 Axes>"
      ]
     },
     "metadata": {},
     "output_type": "display_data"
    }
   ],
   "source": [
    "plt.figure(figsize=(12, 6))\n",
    "sns.barplot(\n",
    "    data=category_sales.head(10),\n",
    "    x=\"product_category\",\n",
    "    y=\"total_sales\",\n",
    "    palette=\"coolwarm\"\n",
    ")\n",
    "plt.title(\"Top 10 Product Categories by Total Sales\", fontsize=14, weight='bold')\n",
    "plt.xlabel(\"Product Category\")\n",
    "plt.ylabel(\"Total Sales (USD)\")\n",
    "plt.xticks(rotation=45, ha='right')\n",
    "plt.tight_layout()\n",
    "plt.show()"
   ]
  },
  {
   "cell_type": "markdown",
   "id": "2c5e79ab",
   "metadata": {},
   "source": [
    "<span style=\"color:#de4710\">\n",
    "<span style=\"font-size:26px;\">\n",
    "Correlation Matrix"
   ]
  },
  {
   "cell_type": "code",
   "execution_count": 42,
   "id": "9e7bb3cc",
   "metadata": {},
   "outputs": [
    {
     "name": "stdout",
     "output_type": "stream",
     "text": [
      "product_rating          0.047451\n",
      "total_reviews           0.420849\n",
      "purchased_last_month    1.000000\n",
      "discounted_price       -0.067229\n",
      "original_price         -0.067235\n",
      "discount_percentage     0.062096\n",
      "Name: purchased_last_month, dtype: float64\n"
     ]
    },
    {
     "data": {
      "image/png": "[encoded data removed]",
      "text/plain": [
       "<Figure size 640x480 with 2 Axes>"
      ]
     },
     "metadata": {},
     "output_type": "display_data"
    }
   ],
   "source": [
    "x=df.iloc[:,[1,2,3,4,5,14]]\n",
    "corr_matrix=x.corr()\n",
    "sns.heatmap(corr_matrix,annot=True,fmt=\".2f\",cmap='coolwarm',cbar=True)\n",
    "cor=corr_matrix['purchased_last_month']\n",
    "print(cor)"
   ]
  },
  {
   "cell_type": "markdown",
   "id": "0c2de79b",
   "metadata": {},
   "source": [
    "<span style=\"color:#de4710\">\n",
    "<span style=\"font-size:30px;\">\n",
    " Model 1: Linear Regression"
   ]
  },
  {
   "cell_type": "code",
   "execution_count": 43,
   "id": "c7129684",
   "metadata": {},
   "outputs": [
    {
     "name": "stdout",
     "output_type": "stream",
     "text": [
      "Average purchased_last_month: 523.912629131247\n",
      "Mean Absolute Error: 482.5844100733893\n",
      "Mean Squared Error: 4144524.6468745526\n",
      "Root Mean Squared Error 2035.8105626198505\n",
      "Accuracy : 8.189722060688332\n"
     ]
    }
   ],
   "source": [
    "#----------------identifying predictor and target columns------------------\n",
    "x=df.iloc[:,2].values.reshape(-1,1)\n",
    "y=df.iloc[:,3].values\n",
    "\n",
    "#----------------Splitting the variables into the test and training data set------------\n",
    "from sklearn.model_selection import train_test_split\n",
    "x_train,x_test,y_train,y_test=train_test_split(x,y,test_size=0.25,random_state=0)\n",
    "\n",
    "#---------------Loading Linear Regression Class----------------------\n",
    "from sklearn.linear_model import LinearRegression\n",
    "regressor=LinearRegression()\n",
    "\n",
    "#---------------Fitting the simple LinearRegression model to the training dataset-----------\n",
    "regressor.fit(x_train,y_train)\n",
    "\n",
    "#----------------Prediction Result on Test data------------------\n",
    "y_pred=regressor.predict(x_test)\n",
    "\n",
    "#--------------Calculating mean of target variable---------------\n",
    "avg_sales = df[\"purchased_last_month\"].mean()\n",
    "print(\"Average purchased_last_month:\", avg_sales)\n",
    "\n",
    "from sklearn import metrics\n",
    "print('Mean Absolute Error:',metrics.mean_absolute_error(y_test,y_pred))\n",
    "print('Mean Squared Error:',metrics.mean_squared_error(y_test,y_pred))\n",
    "print('Root Mean Squared Error',np.sqrt(metrics.mean_squared_error(y_test,y_pred)))\n",
    "linacc= r2_score(y_test, y_pred)\n",
    "print(\"Accuracy :\",linacc*100)"
   ]
  },
  {
   "cell_type": "markdown",
   "id": "5417044b",
   "metadata": {},
   "source": [
    "<span style=\"color:#de4710\">\n",
    "<span style=\"font-size:30px;\">\n",
    " Model 2: Multiple Linear Regression"
   ]
  },
  {
   "cell_type": "code",
   "execution_count": 44,
   "id": "e0a6ed0e",
   "metadata": {},
   "outputs": [
    {
     "name": "stdout",
     "output_type": "stream",
     "text": [
      "Average purchased_last_month: 523.912629131247\n",
      "Mean Absolute Error: 471.5564053653993\n",
      "Mean Squared Error: 3782714.7546458556\n",
      "Root Mean Squared Error 1944.920243775013\n",
      "Accuracy : 16.204601835081554\n"
     ]
    }
   ],
   "source": [
    "#----------------identifying predictor and target columns------------------\n",
    "x=df.iloc[:,[1,2,5,14,6,8]].values\n",
    "y=df.iloc[:,3].values\n",
    "\n",
    "#-----------------Converting Categorical columns into numerical format-----------------\n",
    "from sklearn.preprocessing import OneHotEncoder\n",
    "from sklearn.compose import ColumnTransformer\n",
    "ct = ColumnTransformer(\n",
    "    transformers=[\n",
    "        ('is_best_seller', OneHotEncoder(),[4]),\n",
    "        ('has_coupon', OneHotEncoder(),[5])\n",
    "    ],\n",
    "    remainder='passthrough'\n",
    ")\n",
    "x = ct.fit_transform(x)\n",
    "\n",
    "#----------------Splitting the variables into the test and training data set------------\n",
    "from sklearn.model_selection import train_test_split\n",
    "x_train,x_test,y_train,y_test=train_test_split(x,y,test_size=0.25,random_state=0)\n",
    "\n",
    "#---------------Loading Linear Regression Class----------------------\n",
    "from sklearn.linear_model import LinearRegression\n",
    "regressor=LinearRegression()\n",
    "\n",
    "#---------------Fitting the LinearRegression model to the training dataset----------\n",
    "regressor.fit(x_train,y_train)\n",
    "\n",
    "#----------------Prediction Result on Test data------------------\n",
    "y_pred=regressor.predict(x_test)\n",
    "\n",
    "#--------------Calculating mean of target variable---------------\n",
    "avg_sales = df[\"purchased_last_month\"].mean()\n",
    "print(\"Average purchased_last_month:\", avg_sales)\n",
    "\n",
    "from sklearn import metrics\n",
    "print('Mean Absolute Error:',metrics.mean_absolute_error(y_test,y_pred))\n",
    "print('Mean Squared Error:',metrics.mean_squared_error(y_test,y_pred))\n",
    "print('Root Mean Squared Error',np.sqrt(metrics.mean_squared_error(y_test,y_pred)))\n",
    "mulacc= r2_score(y_test, y_pred)\n",
    "print(\"Accuracy :\", mulacc*100)"
   ]
  },
  {
   "cell_type": "markdown",
   "id": "189f3c0a",
   "metadata": {},
   "source": [
    "<span style=\"color:#de4710\">\n",
    "<span style=\"font-size:35px;\">\n",
    "NON-LINEAR ALGORITHM"
   ]
  },
  {
   "cell_type": "markdown",
   "id": "98e576e1",
   "metadata": {},
   "source": [
    "<span style=\"color:#de4710\">\n",
    "<span style=\"font-size:30px;\">\n",
    "Model 3: Polynonial Regression"
   ]
  },
  {
   "cell_type": "code",
   "execution_count": 45,
   "id": "14b3db29",
   "metadata": {},
   "outputs": [
    {
     "name": "stdout",
     "output_type": "stream",
     "text": [
      "Mean Absolute Error: 508.44775050741487\n",
      "Mean Squared Error: 4288862.995848388\n",
      "Root Mean Squared Error 2070.95702414328\n",
      "Accuracy : 4.992312208974081\n"
     ]
    }
   ],
   "source": [
    "#----------------identifying predictor and target columns------------------\n",
    "x=df.iloc[:,[1,2,5,14,6,8]].values\n",
    "y=df.iloc[:,3].values\n",
    "\n",
    "#-----------------Converting Categorical columns into numerical format-----------------\n",
    "from sklearn.preprocessing import OneHotEncoder\n",
    "from sklearn.compose import ColumnTransformer\n",
    "ct = ColumnTransformer(\n",
    "    transformers=[\n",
    "        ('is_best_seller', OneHotEncoder(), [4]),\n",
    "        ('has_coupon', OneHotEncoder(), [5])\n",
    "    ],\n",
    "    remainder='passthrough'\n",
    ")\n",
    "x = ct.fit_transform(x)\n",
    "\n",
    "#----------------Splitting the variables into the test and training data set------------\n",
    "from sklearn.model_selection import train_test_split\n",
    "x_train,x_test,y_train,y_test=train_test_split(x,y,test_size=0.25,random_state=0)\n",
    "\n",
    "#---------------Loading PolynomialFeatures----------------------\n",
    "from sklearn.preprocessing import PolynomialFeatures\n",
    "poly_regs=PolynomialFeatures(degree=2,include_bias=False)\n",
    "x_train_poly=poly_regs.fit_transform(x_train)\n",
    "x_test_poly=poly_regs.transform(x_test)\n",
    "\n",
    "model=LinearRegression()\n",
    "model.fit(x_train_poly,y_train)\n",
    "\n",
    "y_pred=model.predict(x_test_poly)\n",
    "\n",
    "from sklearn import metrics\n",
    "print('Mean Absolute Error:',metrics.mean_absolute_error(y_test,y_pred))\n",
    "print('Mean Squared Error:',metrics.mean_squared_error(y_test,y_pred))\n",
    "print('Root Mean Squared Error',np.sqrt(metrics.mean_squared_error(y_test,y_pred)))\n",
    "polacc= r2_score(y_test, y_pred)\n",
    "print(\"Accuracy :\", polacc*100)"
   ]
  },
  {
   "cell_type": "markdown",
   "id": "69403e50",
   "metadata": {},
   "source": [
    "<span style=\"color:#de4710\">\n",
    "<span style=\"font-size:30px;\">\n",
    "Model 4: Random Forest Regression"
   ]
  },
  {
   "cell_type": "code",
   "execution_count": 46,
   "id": "644bfaf7",
   "metadata": {},
   "outputs": [
    {
     "name": "stdout",
     "output_type": "stream",
     "text": [
      "Average purchased_last_month: 523.912629131247\n",
      "Mean Absolute Error: 295.56232149418395\n",
      "Mean Squared Error: 3286671.3789022486\n",
      "Root Mean Squared Error 1812.9179184128134\n",
      "Accuracy : 27.193046609156855\n"
     ]
    }
   ],
   "source": [
    "#----------------identifying predictor and target columns------------------\n",
    "x = df.iloc[:,[1,2,5,14,6,8]].values\n",
    "y=df.iloc[:,3].values\n",
    "\n",
    "#-----------------Converting Categorical columns into numerical format-----------------\n",
    "from sklearn.preprocessing import OneHotEncoder\n",
    "from sklearn.compose import ColumnTransformer\n",
    "ct = ColumnTransformer(\n",
    "    transformers=[\n",
    "        ('is_best_seller', OneHotEncoder(), [4]),\n",
    "        ('has_coupon', OneHotEncoder(), [5])\n",
    "    ],\n",
    "    remainder='passthrough'\n",
    ")\n",
    "x = ct.fit_transform(x)\n",
    "\n",
    "#----------------Splitting the variables into the test and training data set------------\n",
    "from sklearn.model_selection import train_test_split\n",
    "x_train,x_test,y_train,y_test=train_test_split(x,y,test_size=0.25,random_state=0)\n",
    "\n",
    "#-----------------Performing Standardization-----------------------------\n",
    "from sklearn.preprocessing import StandardScaler\n",
    "st_x = StandardScaler(with_mean=False)\n",
    "# Fit only on training set\n",
    "x_train = st_x.fit_transform(x_train)\n",
    "# Transform test set with same parameters\n",
    "x_test = st_x.transform(x_test)\n",
    "\n",
    "#-------------Loading RandomForestRegressor class---------------------\n",
    "from sklearn.ensemble import RandomForestRegressor\n",
    "regressor=RandomForestRegressor(n_estimators=100,random_state=42)\n",
    "regressor.fit(x_train,y_train)\n",
    "y_pred=regressor.predict(x_test)\n",
    "\n",
    "avg_sales = df[\"purchased_last_month\"].mean()\n",
    "print(\"Average purchased_last_month:\", avg_sales)\n",
    "\n",
    "from sklearn import metrics\n",
    "print('Mean Absolute Error:',metrics.mean_absolute_error(y_test,y_pred))\n",
    "print('Mean Squared Error:',metrics.mean_squared_error(y_test,y_pred))\n",
    "print('Root Mean Squared Error',np.sqrt(metrics.mean_squared_error(y_test,y_pred)))\n",
    "ranacc= r2_score(y_test, y_pred)\n",
    "print(\"Accuracy :\", ranacc*100)"
   ]
  },
  {
   "cell_type": "markdown",
   "id": "a05cc6b1",
   "metadata": {},
   "source": [
    "<span style=\"color:#de4710\">\n",
    "<span style=\"font-size:30px;\">\n",
    "Model 5: Support Vector Regression"
   ]
  },
  {
   "cell_type": "code",
   "execution_count": 47,
   "id": "5979c381",
   "metadata": {},
   "outputs": [
    {
     "name": "stdout",
     "output_type": "stream",
     "text": [
      "Mean Absolute Error: 390.1120321971966\n",
      "Mean Squared Error: 3630081.557576464\n",
      "Root Mean Squared Error 1905.277291518603\n",
      "Accuracy : 19.585760698806542\n"
     ]
    }
   ],
   "source": [
    "import pandas as pd\n",
    "import numpy as np\n",
    "from sklearn.model_selection import train_test_split\n",
    "from sklearn.preprocessing import OneHotEncoder, StandardScaler\n",
    "from sklearn.compose import ColumnTransformer\n",
    "from sklearn.svm import SVR\n",
    "from sklearn.metrics import mean_absolute_error, r2_score\n",
    "\n",
    "# -------------------------\n",
    "# 1. Select predictors & target\n",
    "# -------------------------\n",
    "X = df.iloc[:, [1, 2, 5, 14, 6, 8]].values\n",
    "y = df.iloc[:, 3].values\n",
    "\n",
    "# -------------------------\n",
    "# 2. OneHotEncoding for categorical features\n",
    "# -------------------------\n",
    "ct = ColumnTransformer(\n",
    "    transformers=[\n",
    "        ('is_best_seller', OneHotEncoder(), [4]),\n",
    "        ('has_coupon', OneHotEncoder(), [5])\n",
    "    ],\n",
    "    remainder='passthrough'\n",
    ")\n",
    "X = ct.fit_transform(X)\n",
    "\n",
    "# -------------------------\n",
    "# 3. Train-test split\n",
    "# -------------------------\n",
    "X_train, X_test, y_train, y_test = train_test_split(\n",
    "    X, y, test_size=0.25, random_state=0\n",
    ")\n",
    "\n",
    "# -------------------------\n",
    "# 4. Feature Scaling\n",
    "# -------------------------\n",
    "sc_X = StandardScaler(with_mean=False)  # with_mean=False because X is sparse after OneHotEncoding\n",
    "X_train = sc_X.fit_transform(X_train)\n",
    "X_test = sc_X.transform(X_test)\n",
    "\n",
    "sc_y = StandardScaler()\n",
    "y_train = sc_y.fit_transform(y_train.reshape(-1, 1)).ravel()  # scale target\n",
    "y_test_scaled = sc_y.transform(y_test.reshape(-1, 1)).ravel()\n",
    "\n",
    "# -------------------------\n",
    "# 5. Train SVR\n",
    "# -------------------------\n",
    "svr = SVR(kernel='rbf', C=100, epsilon=0.1)  # rbf is most common kernel\n",
    "svr.fit(X_train, y_train)\n",
    "\n",
    "# -------------------------\n",
    "# 6. Predictions\n",
    "# -------------------------\n",
    "y_pred_scaled = svr.predict(X_test)\n",
    "y_pred = sc_y.inverse_transform(y_pred_scaled.reshape(-1, 1)).ravel()  # inverse scaling\n",
    "\n",
    "# -------------------------\n",
    "# 7. Evaluation\n",
    "# -------------------------\n",
    "\n",
    "from sklearn import metrics\n",
    "print('Mean Absolute Error:',metrics.mean_absolute_error(y_test,y_pred))\n",
    "print('Mean Squared Error:',metrics.mean_squared_error(y_test,y_pred))\n",
    "print('Root Mean Squared Error',np.sqrt(metrics.mean_squared_error(y_test,y_pred)))\n",
    "supacc= r2_score(y_test, y_pred)\n",
    "print(\"Accuracy :\", supacc*100)\n"
   ]
  },
  {
   "cell_type": "markdown",
   "id": "074ce2d8",
   "metadata": {},
   "source": [
    "<span style=\"color:#de4710\">\n",
    "<span style=\"font-size:30px;\">\n",
    "Model 6: Decision Tree Regression"
   ]
  },
  {
   "cell_type": "code",
   "execution_count": 48,
   "id": "4b9c413b",
   "metadata": {},
   "outputs": [
    {
     "name": "stdout",
     "output_type": "stream",
     "text": [
      "Mean Absolute Error: 429.5557373239249\n",
      "Mean Squared Error: 4724166.345497959\n",
      "Root Mean Squared Error: 2173.514744716023\n",
      "Accuracy : -4.650608252212929\n"
     ]
    }
   ],
   "source": [
    "import numpy as np\n",
    "import pandas as pd\n",
    "from sklearn.model_selection import train_test_split\n",
    "from sklearn.tree import DecisionTreeRegressor\n",
    "from sklearn.metrics import mean_absolute_error, mean_squared_error, r2_score\n",
    "\n",
    "# Select features (X) and target (y)\n",
    "X = df.iloc[:, [1, 2, 5, 14, 6, 8]].values\n",
    "y = df.iloc[:, 3].values\n",
    "ct = ColumnTransformer(\n",
    "    transformers=[\n",
    "        ('is_best_seller', OneHotEncoder(), [4]),\n",
    "        ('has_coupon', OneHotEncoder(), [5])\n",
    "    ],\n",
    "    remainder='passthrough'\n",
    ")\n",
    "X = ct.fit_transform(X)\n",
    "\n",
    "# Train-test split\n",
    "X_train, X_test, y_train, y_test = train_test_split(X, y, test_size=0.25, random_state=0)\n",
    "\n",
    "# Train Decision Tree Regressor\n",
    "regressor = DecisionTreeRegressor(random_state=0, max_depth=5)  # you can tune max_depth\n",
    "regressor.fit(X_train, y_train)\n",
    "\n",
    "# Predictions\n",
    "y_pred = regressor.predict(X_test)\n",
    "\n",
    "# Evaluation\n",
    "print(\"Mean Absolute Error:\", mean_absolute_error(y_test, y_pred))\n",
    "print(\"Mean Squared Error:\", mean_squared_error(y_test, y_pred))\n",
    "print(\"Root Mean Squared Error:\", np.sqrt(mean_squared_error(y_test, y_pred)))\n",
    "decacc= r2_score(y_test, y_pred)\n",
    "print(\"Accuracy :\", decacc*100)"
   ]
  },
  {
   "cell_type": "markdown",
   "id": "0a98d7e5",
   "metadata": {},
   "source": [
    "<span style=\"color:#de4710\">\n",
    "<span style=\"font-size:30px;\">\n",
    "Model 7: K-Nearest Neighbours Regression"
   ]
  },
  {
   "cell_type": "code",
   "execution_count": 49,
   "id": "baee91d6",
   "metadata": {},
   "outputs": [
    {
     "name": "stdout",
     "output_type": "stream",
     "text": [
      "Mean Absolute Error: 330.7512360333675\n",
      "Mean Squared Error: 3855994.454494249\n",
      "Root Mean Squared Error: 1963.6686213550006\n",
      "Accuracy : 14.58129634564168\n"
     ]
    }
   ],
   "source": [
    "import numpy as np\n",
    "import pandas as pd\n",
    "from sklearn.model_selection import train_test_split\n",
    "from sklearn.preprocessing import StandardScaler\n",
    "from sklearn.neighbors import KNeighborsRegressor\n",
    "from sklearn.metrics import mean_absolute_error, mean_squared_error, r2_score\n",
    "\n",
    "# Features (X) and target (y)\n",
    "X = df.iloc[:, [1,2,5,14,6,8]].values\n",
    "y = df.iloc[:, 3].values\n",
    "ct = ColumnTransformer(\n",
    "    transformers=[\n",
    "        ('is_best_seller', OneHotEncoder(), [4]),\n",
    "        ('has_coupon', OneHotEncoder(), [5])\n",
    "    ],\n",
    "    remainder='passthrough'\n",
    ")\n",
    "X = ct.fit_transform(X)\n",
    "\n",
    "# Train-test split\n",
    "X_train, X_test, y_train, y_test = train_test_split(X, y, test_size=0.25, random_state=0)\n",
    "\n",
    "# Feature scaling (important for KNN!)\n",
    "sc = StandardScaler(with_mean=False)\n",
    "X_train = sc.fit_transform(X_train)\n",
    "X_test = sc.transform(X_test)\n",
    "\n",
    "# Train KNN Regressor\n",
    "knn = KNeighborsRegressor(n_neighbors=5, metric='minkowski', p=2)  # Euclidean distance\n",
    "knn.fit(X_train, y_train)\n",
    "\n",
    "# ✅ Predictions\n",
    "y_pred = knn.predict(X_test)\n",
    "\n",
    "# Evaluation\n",
    "print(\"Mean Absolute Error:\", mean_absolute_error(y_test, y_pred))\n",
    "print(\"Mean Squared Error:\", mean_squared_error(y_test, y_pred))\n",
    "print(\"Root Mean Squared Error:\", np.sqrt(mean_squared_error(y_test, y_pred)))\n",
    "knnacc= r2_score(y_test, y_pred)\n",
    "print(\"Accuracy :\", knnacc*100)"
   ]
  },
  {
   "cell_type": "markdown",
   "id": "5cd8eb80",
   "metadata": {},
   "source": [
    "<span style=\"color:#de4710\">\n",
    "<span style=\"font-size:30px;\">\n",
    "Model Comparison"
   ]
  },
  {
   "cell_type": "code",
   "execution_count": 52,
   "id": "45b9f631",
   "metadata": {},
   "outputs": [
    {
     "name": "stderr",
     "output_type": "stream",
     "text": [
      "C:\\Users\\anusr\\AppData\\Local\\Temp\\ipykernel_40640\\2287872377.py:8: FutureWarning: \n",
      "\n",
      "Passing `palette` without assigning `hue` is deprecated and will be removed in v0.14.0. Assign the `x` variable to `hue` and set `legend=False` for the same effect.\n",
      "\n",
      "  sns.barplot(x='Model', y='Accuracy', data=results_df, palette='viridis')\n"
     ]
    },
    {
     "data": {
      "image/png": "[encoded data removed]",
      "text/plain": [
       "<Figure size 1000x500 with 1 Axes>"
      ]
     },
     "metadata": {},
     "output_type": "display_data"
    }
   ],
   "source": [
    "results_df = pd.DataFrame({\n",
    "    'Model': ['Linear Regression', 'Multiple Linear Regression', 'Polynomial Regression', 'Random Forest Regression','Support Vector Regression','Decision Tree Regression','KNN'],\n",
    "    'Accuracy': [linacc,mulacc,polacc,ranacc,supacc,decacc,knnacc]\n",
    "})\n",
    "\n",
    "# Plot results\n",
    "plt.figure(figsize=(10,5))\n",
    "sns.barplot(x='Model', y='Accuracy', data=results_df, palette='viridis')\n",
    "plt.title('Model Comparison',fontweight='bold')\n",
    "plt.ylim(0, 1)\n",
    "plt.xticks(rotation=15)\n",
    "plt.show()"
   ]
  },
  {
   "cell_type": "markdown",
   "id": "5c01f7a5",
   "metadata": {},
   "source": [
    "<p style=\"text-align:justify;\">\n",
    "<span style=\"color:#cfad34\">\n",
    "<span style=\"font-size:26px;\">\n",
    "SUMMARY:\n",
    "<p style=\"text-align:justify;\">\n",
    "<span style=\"color:#e65245\">\n",
    "<span style=\"font-size:22px;\">\n",
    "The bar chart illustrates the performance of various regression models based on their accuracy scores. Among all models tested, Random Forest Regression achieved the highest accuracy, indicating it performs best in predicting the target variable for this dataset. Support Vector Regression (SVR) and Multiple Linear Regression also showed moderate performance.\n",
    "<p style=\"text-align:justify;\">\n",
    "<span style=\"color:#e65245\">\n",
    "<span style=\"font-size:22px;\">\n",
    "In contrast, models like Polynomial Regression and Linear Regression recorded relatively lower accuracies, suggesting they may not effectively capture the underlying relationships in the data. The K-Nearest Neighbors (KNN) and Decision Tree Regression models demonstrated average accuracy levels, implying that ensemble methods like Random Forest are better suited for this problem.\n",
    "<p style=\"text-align:justify;\">\n",
    "<span style=\"color:#e65245\">\n",
    "<span style=\"font-size:22px;\">\n",
    "Overall, the comparison suggests that Random Forest Regression provides the most reliable results, likely due to its ability to handle non-linearity and complex interactions between features."
   ]
  }
 ],
 "metadata": {
  "kernelspec": {
   "display_name": "Python 3",
   "language": "python",
   "name": "python3"
  },
  "language_info": {
   "codemirror_mode": {
    "name": "ipython",
    "version": 3
   },
   "file_extension": ".py",
   "mimetype": "text/x-python",
   "name": "python",
   "nbconvert_exporter": "python",
   "pygments_lexer": "ipython3",
   "version": "3.10.11"
  }
 },
 "nbformat": 4,
 "nbformat_minor": 5
}
